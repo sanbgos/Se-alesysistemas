{
  "nbformat": 4,
  "nbformat_minor": 0,
  "metadata": {
    "colab": {
      "provenance": [],
      "include_colab_link": true
    },
    "kernelspec": {
      "display_name": "Python 3",
      "language": "python",
      "name": "python3"
    },
    "language_info": {
      "codemirror_mode": {
        "name": "ipython",
        "version": 3
      },
      "file_extension": ".py",
      "mimetype": "text/x-python",
      "name": "python",
      "nbconvert_exporter": "python",
      "pygments_lexer": "ipython3",
      "version": "3.7.1"
    }
  },
  "cells": [
    {
      "cell_type": "markdown",
      "metadata": {
        "id": "view-in-github",
        "colab_type": "text"
      },
      "source": [
        "<a href=\"https://colab.research.google.com/github/sanbgos/Se-alesysistemas/blob/main/1_Respuesta_Impulso.ipynb\" target=\"_parent\"><img src=\"https://colab.research.google.com/assets/colab-badge.svg\" alt=\"Open In Colab\"/></a>"
      ]
    },
    {
      "cell_type": "markdown",
      "metadata": {
        "id": "DWA02Xu-Agmz",
        "nbsphinx": "hidden"
      },
      "source": [
        "# Caracterización de sistemas lineales e invariantes en el tiempo"
      ]
    },
    {
      "cell_type": "markdown",
      "metadata": {
        "id": "8EHzTYWPAgm6"
      },
      "source": [
        "## Respuesta al Impulso\n",
        "\n",
        "- La respuesta $y(t)$ de un sistema lineal e invariante en el tiempo (SLIT) $\\mathsf{H}\\{\\cdot\\}$ respecto a una señal de entrada arbitraria $x(t),$ se puede obtner con base a la integral de convolución utilizando la [respuesta al impulso](https://en.wikipedia.org/wiki/Linear_time-invariant_system).\n",
        "\n",
        "- La señal de entrada se puede representar como una integral cuando se aplica la propiedad de selectividad del impulso de Dirac:\n",
        "\n",
        "\\begin{equation}\n",
        "x(t) = \\int_{-\\infty}^{\\infty} x(\\tau) \\cdot \\delta(t-\\tau) \\; d \\tau\n",
        "\\end{equation}\n",
        "\n",
        "- Empleando la relación anterior para la señal de entrada $x(t)$ sobre la señal de salida $y(t)=\\mathsf{H}\\{x(t)\\}$ del sistema, se tiene que:\n",
        "\n",
        "\\begin{equation}\n",
        "y(t) = \\mathsf{H} \\left\\{ \\int_{-\\infty}^{\\infty} x(\\tau) \\cdot \\delta(t-\\tau) \\; d \\tau \\right\\}\n",
        "\\end{equation}\n",
        "\n",
        "donde $\\mathsf{H}\\{\\cdot\\}$ denota el operador de respuesta del sistema. El operador de integración y respuesta del sistema se pueden intercambiar bajo el supuesto de que el sistema es lineal:\n",
        "\n",
        "\\begin{equation}\n",
        "y(t) = \\int_{-\\infty}^{\\infty}  x(\\tau) \\cdot \\mathsf{H} \\left\\{ \\delta(t-\\tau) \\right\\} \\; d \\tau\n",
        "\\end{equation}\n",
        "\n",
        "donde $\\mathsf{H}\\{\\cdot\\}$ solo se aplica al impulso de Dirac, ya que $x(\\tau)$ puede considerarse como un factor constante con respecto al tiempo $t$. Se hace evidente que la respuesta de un sistema a un impulso de Dirac juega un papel importante en el cálculo de la señal de salida para señales de entrada arbitrarias.\n",
        "\n",
        "La respuesta de un sistema ante un impulso de dirac como entrada, se denomina [*respuesta al impulso*](https://en.wikipedia.org/wiki/Impulse_response). Se define como\n",
        "\n",
        "\\begin{equation}\n",
        "h(t) = \\mathsf{H} \\left\\{ \\delta(t) \\right\\}\n",
        "\\end{equation}\n",
        "\n",
        "Si el sistema es invariante en el tiempo, la respuesta a un impulso Dirac desplazado es $\\mathsf{H}\\left\\{\\delta(t-\\tau)\\right\\} = h(t-\\tau)$. Por lo tanto, para un SLIT se tiene que:\n",
        "\n",
        "\\begin{equation}\n",
        "y(t) = \\int_{-\\infty}^{\\infty}  x(\\tau) \\cdot h(t-\\tau) \\; d \\tau\n",
        "\\end{equation}\n",
        "\n",
        "La anterior operación se relaciona directamente con el operador [*convolución*](https://en.wikipedia.org/wiki/Convolution), definido $y(t)=x(t)*h(t)$.\n",
        "\n",
        "Se puede concluir que las propiedades de un SLIT están completamente caracterizadas por su respuesta al impulso.\n",
        "\n",
        "La respuesta $y(t)$ de un sistema a una señal de entrada arbitraria $x(t)$ está dada por la convolución de la señal de entrada $x(t)$ con su respuesta de impulso $h(t)$."
      ]
    },
    {
      "cell_type": "markdown",
      "metadata": {
        "id": "E-epKcIaAgm8"
      },
      "source": [
        "**Ejemplo**\n",
        "\n",
        "El siguiente ejemplo considera un SLIT cuya relación entre la entrada $x(t)$ y la salida $y(t)$ está dada por una ecuación diferencial ordinaria (EDO) con coeficientes constantes\n",
        "\n",
        "\\begin{equation}\n",
        "\\frac{d}{dt} y(t)+ y(t) = x(t)\n",
        "\\end{equation}\n",
        "\n",
        "La respuesta del sistema para la señal de entrada $x(t)=e^{-2t}\\cdot\\epsilon(t)$ se puede calcular mediante:\n",
        "\n",
        "1. Se resuelve la [EDO](https://en.wikipedia.org/wiki/Ordinary_differential_equation).\n",
        "2. Se calcula la respuesta al impulso $h(t)$ y se realiza la convolución con la entrada.\n",
        "\n",
        "Generalmente se asumen condiciones iniciales $y(t)\\big\\vert_{t=0-}=0$ y $\\frac{d}{dt}y(t)\\big\\vert_{t=0-}=0 $.\n",
        "\n",
        "Primero, se define la EDO en `SymPy`"
      ]
    },
    {
      "cell_type": "code",
      "metadata": {
        "colab": {
          "base_uri": "https://localhost:8080/",
          "height": 52
        },
        "id": "4BpQ4YsZAgm_",
        "outputId": "50d79804-9018-4a9d-e0d9-4b1e6c4d6da4"
      },
      "source": [
        "%matplotlib inline\n",
        "import sympy as sym\n",
        "sym.init_printing()\n",
        "\n",
        "t = sym.symbols('t', real=True)\n",
        "x = sym.Function('x')(t)\n",
        "y = sym.Function('y')(t)\n",
        "\n",
        "ode = sym.Eq(y + y.diff(t) , x)#definir ecuacion en simpy con operador diferencial diff\n",
        "ode"
      ],
      "execution_count": 1,
      "outputs": [
        {
          "output_type": "execute_result",
          "data": {
            "text/plain": [
              "       d              \n",
              "y(t) + ──(y(t)) = x(t)\n",
              "       dt             "
            ],
            "text/latex": "$\\displaystyle y{\\left(t \\right)} + \\frac{d}{d t} y{\\left(t \\right)} = x{\\left(t \\right)}$"
          },
          "metadata": {},
          "execution_count": 1
        }
      ]
    },
    {
      "cell_type": "markdown",
      "metadata": {
        "id": "TGrUvUlIAgnP"
      },
      "source": [
        "La EDO se resuelve para la señal de entrada dada con el fin de calcular la señal de salida. La constante de integración se calcula de forma que la solución cumpla las condiciones iniciales."
      ]
    },
    {
      "cell_type": "code",
      "metadata": {
        "colab": {
          "base_uri": "https://localhost:8080/",
          "height": 38
        },
        "id": "Qm0ztn5BAgnS",
        "outputId": "975e0f52-c881-425c-80ce-9026c3ad125b"
      },
      "source": [
        "solution = sym.dsolve(ode.subs(x, sym.exp(-2*t)*sym.Heaviside(t)))#resolver edo ante entrada x(t)\n",
        "#se definin condiciones iniciales 0\n",
        "integration_constants = sym.solve( (solution.rhs.limit(t, 0, '-'), solution.rhs.diff(t).limit(t, 0, '-')), 'C1' )\n",
        "y1 = solution.subs(integration_constants)\n",
        "y1"
      ],
      "execution_count": 2,
      "outputs": [
        {
          "output_type": "execute_result",
          "data": {
            "text/plain": [
              "       ⎛        -t     ⎞  -t\n",
              "y(t) = ⎝θ(t) - ℯ  ⋅θ(t)⎠⋅ℯ  "
            ],
            "text/latex": "$\\displaystyle y{\\left(t \\right)} = \\left(\\theta\\left(t\\right) - e^{- t} \\theta\\left(t\\right)\\right) e^{- t}$"
          },
          "metadata": {},
          "execution_count": 2
        }
      ]
    },
    {
      "cell_type": "markdown",
      "metadata": {
        "id": "GCQz-z6jAgnb"
      },
      "source": [
        "Se grafica la solución de la EDO"
      ]
    },
    {
      "cell_type": "code",
      "metadata": {
        "colab": {
          "base_uri": "https://localhost:8080/",
          "height": 484
        },
        "id": "fLKlj4_HAgnd",
        "outputId": "a7f1eb27-99bf-49bf-e3be-e893cddf78bb"
      },
      "source": [
        "sym.plot(y1.rhs, (t,-1,10), ylabel=r'$y(t)$');"
      ],
      "execution_count": 3,
      "outputs": [
        {
          "output_type": "display_data",
          "data": {
            "text/plain": [
              "<Figure size 640x480 with 1 Axes>"
            ],
            "image/png": "[encoded data removed]"
          },
          "metadata": {}
        }
      ]
    },
    {
      "cell_type": "markdown",
      "metadata": {
        "id": "Dn-Ye_pWAgnm"
      },
      "source": [
        "La respuesta al impulso $h(t)$ se puede calcular resolviendo la EDO para un impulso de Dirac como señal de entrada, $x(t)=\\delta(t)$."
      ]
    },
    {
      "cell_type": "code",
      "metadata": {
        "colab": {
          "base_uri": "https://localhost:8080/",
          "height": 38
        },
        "id": "eiyUSZjIAgno",
        "outputId": "faa7aa08-aedf-4f43-f6ef-ce4fe56fb719"
      },
      "source": [
        "h = sym.Function('h')(t)\n",
        "solution2 = sym.dsolve(ode.subs(x, sym.DiracDelta(t)).subs(y, h))#resolver para delta dirac\n",
        "integration_constants = sym.solve( (solution2.rhs.limit(t, 0, '-'), solution2.rhs.diff(t).limit(t, 0, '-')), 'C1' )\n",
        "h = solution2.subs(integration_constants)\n",
        "h"
      ],
      "execution_count": 4,
      "outputs": [
        {
          "output_type": "execute_result",
          "data": {
            "text/plain": [
              "        -t     \n",
              "h(t) = ℯ  ⋅θ(t)"
            ],
            "text/latex": "$\\displaystyle h{\\left(t \\right)} = e^{- t} \\theta\\left(t\\right)$"
          },
          "metadata": {},
          "execution_count": 4
        }
      ]
    },
    {
      "cell_type": "markdown",
      "metadata": {
        "id": "ArILc1haAgnz"
      },
      "source": [
        "Se grafica la respuesta al impulso $h(t)$ del SLIT:"
      ]
    },
    {
      "cell_type": "code",
      "metadata": {
        "colab": {
          "base_uri": "https://localhost:8080/",
          "height": 484
        },
        "id": "qyMYEIPyAgn1",
        "outputId": "22dd172a-a072-4bbe-c6a5-00f1dbfb17da"
      },
      "source": [
        "sym.plot(h.rhs, (t,-1,10), ylabel=r'$h(t)$');"
      ],
      "execution_count": 5,
      "outputs": [
        {
          "output_type": "display_data",
          "data": {
            "text/plain": [
              "<Figure size 640x480 with 1 Axes>"
            ],
            "image/png": "[encoded data removed]"
          },
          "metadata": {}
        }
      ]
    },
    {
      "cell_type": "markdown",
      "metadata": {
        "id": "Bxb3Ld_qAgn-"
      },
      "source": [
        "Como alternativa a la solución explícita de la EDO, la respuesta del sistema se calcula evaluando la convolución $y(t)=x(t)*h(t)$.\n",
        "\n",
        "**Nota**:Dado que `SymPy` no puede manejar la función Heaviside de manera adecuada en las integrales, la integral de convolución se simplifica primero. Tanto la señal de entrada $x(t)$ como la respuesta de impulso $h(t)$ son señales causales. Por lo tanto, la integral de convolución resulta en\n",
        "\n",
        "\\begin{equation}\n",
        "y(t) = \\int_{0}^{t} x(\\tau) \\cdot h(t - \\tau) \\; d\\tau\n",
        "\\end{equation}\n",
        "\n",
        "Para $t\\geq0$. Observe que $y(t)=0$ para $t<0$."
      ]
    },
    {
      "cell_type": "code",
      "metadata": {
        "colab": {
          "base_uri": "https://localhost:8080/",
          "height": 38
        },
        "id": "Nur3pq9cAgoA",
        "outputId": "48bf7970-cfa4-42c1-f297-741aa8e3d244"
      },
      "source": [
        "tau = sym.symbols('tau', real=True)\n",
        "\n",
        "y2 = sym.integrate(sym.exp(-2*tau) * h.rhs.subs(sym.Heaviside(t), 1).subs(t, t-tau), (tau, 0, t))\n",
        "y2"
      ],
      "execution_count": 6,
      "outputs": [
        {
          "output_type": "execute_result",
          "data": {
            "text/plain": [
              " -t    -2⋅t\n",
              "ℯ   - ℯ    "
            ],
            "text/latex": "$\\displaystyle e^{- t} - e^{- 2 t}$"
          },
          "metadata": {},
          "execution_count": 6
        }
      ]
    },
    {
      "cell_type": "markdown",
      "metadata": {
        "id": "7m3M1svAAgoK"
      },
      "source": [
        "Se grafica la señal de salida obtenida mediante el proceso de convolución:"
      ]
    },
    {
      "cell_type": "code",
      "metadata": {
        "colab": {
          "base_uri": "https://localhost:8080/",
          "height": 484
        },
        "id": "HzZsSTRAAgoM",
        "outputId": "c42c2905-2e0c-4b79-f14c-8a957d4e40b3"
      },
      "source": [
        "sym.plot(y2, (t,0,10), ylabel=r'$y(t)$');"
      ],
      "execution_count": 7,
      "outputs": [
        {
          "output_type": "display_data",
          "data": {
            "text/plain": [
              "<Figure size 640x480 with 1 Axes>"
            ],
            "image/png": "[encoded data removed]"
          },
          "metadata": {}
        }
      ]
    },
    {
      "cell_type": "markdown",
      "metadata": {
        "id": "e6YWym8VAgoT"
      },
      "source": [
        "**Ejercicio**\n",
        "\n",
        "* Compare la señal de salida obtenida al resolver la EDO con la obtenida mediante la convolución. Son iguales?\n",
        "* Compruebe la solución $h(t)$ de la EDO cuando $x(t)=\\delta(t)$ de manera manual. Tener en cuenta que $\\frac{d}{dt} \\epsilon(t) = \\delta(t)$.\n",
        "* Comprobar la solución de la integral de convolución de manera manual. Tener en cuenta las funciones Heaviside."
      ]
    },
    {
      "cell_type": "markdown",
      "source": [
        "# Caracterización de Sistemas Lineales e Invariantes en el Tiempo (SLIT)\n",
        "\n",
        "Un **sistema lineal e invariante en el tiempo (SLIT)** se caracteriza completamente mediante su **respuesta al impulso**. La salida del sistema ante cualquier señal de entrada se obtiene mediante la **convolución** de dicha señal con la respuesta al impulso del sistema.\n"
      ],
      "metadata": {
        "id": "OGnXiZwxkkjg"
      }
    },
    {
      "cell_type": "markdown",
      "source": [
        "## Representación mediante la función delta de Dirac\n",
        "\n",
        "La señal de entrada puede representarse como:\n",
        "\n",
        "$$\n",
        "x(t) = \\int_{-\\infty}^{\\infty} x(\\tau) \\cdot \\delta(t - \\tau) \\, d\\tau\n",
        "$$\n",
        "\n",
        "Aplicando el sistema a ambos lados:\n",
        "\n",
        "$$\n",
        "y(t) = \\mathcal{H}\\{x(t)\\} = \\mathcal{H} \\left\\{ \\int_{-\\infty}^{\\infty} x(\\tau) \\cdot \\delta(t - \\tau) \\, d\\tau \\right\\}\n",
        "$$\n",
        "\n",
        "Por linealidad e invariancia:\n",
        "\n",
        "$$\n",
        "y(t) = \\int_{-\\infty}^{\\infty} x(\\tau) \\cdot \\mathcal{H}\\{\\delta(t - \\tau)\\} \\, d\\tau = \\int_{-\\infty}^{\\infty} x(\\tau) \\cdot h(t - \\tau) \\, d\\tau\n",
        "$$\n",
        "\n",
        "donde:\n",
        "\n",
        "$$\n",
        "h(t) = \\mathcal{H}\\{\\delta(t)\\}\n",
        "$$\n",
        "\n",
        "Esta operación se llama **convolución** y se denota:\n",
        "\n",
        "$$\n",
        "y(t) = (x * h)(t)\n",
        "$$\n"
      ],
      "metadata": {
        "id": "CwWIRaHCkyEd"
      }
    },
    {
      "cell_type": "markdown",
      "source": [
        "## Ejemplo práctico\n",
        "\n",
        "Consideremos el sistema descrito por la siguiente ecuación diferencial:\n",
        "\n",
        "$$\n",
        "\\frac{d}{dt} y(t) + y(t) = x(t)\n",
        "$$\n",
        "\n",
        "Y se define la entrada como:\n",
        "\n",
        "$$\n",
        "x(t) = e^{-2t} \\cdot \\epsilon(t)\n",
        "$$\n",
        "\n",
        "donde $ \\epsilon(t) $ es la función escalón unitario.\n",
        "\n",
        "Queremos hallar la salida \\( y(t) \\) mediante:\n",
        "\n",
        "1. Solución directa de la ecuación diferencial.\n",
        "2. Cálculo de la respuesta al impulso \\( h(t) \\) y convolución con \\( x(t) \\).\n"
      ],
      "metadata": {
        "id": "S0yVe9nOk0K9"
      }
    },
    {
      "cell_type": "markdown",
      "source": [
        "### 1. Solución directa de la EDO\n",
        "\n",
        "Resolvemos:\n",
        "\n",
        "$$\n",
        "\\frac{d}{dt} y(t) + y(t) = e^{-2t} \\cdot \\epsilon(t), \\quad y(0) = 0\n",
        "$$\n",
        "\n",
        "La solución es:\n",
        "\n",
        "$$\n",
        "y(t) = (e^t - 1) \\cdot e^{-2t} \\cdot \\epsilon(t)\n",
        "$$\n"
      ],
      "metadata": {
        "id": "S0XZHZc1k3Lp"
      }
    },
    {
      "cell_type": "markdown",
      "source": [
        "### 2. Respuesta al impulso\n",
        "\n",
        "Para hallar \\( h(t) \\), resolvemos la ecuación con entrada \\( \\delta(t) \\):\n",
        "\n",
        "$$\n",
        "\\frac{d}{dt} y(t) + y(t) = \\delta(t), \\quad y(0) = 0\n",
        "$$\n",
        "\n",
        "La solución es:\n",
        "\n",
        "$$\n",
        "h(t) = e^{-t} \\cdot \\epsilon(t)\n",
        "$$\n"
      ],
      "metadata": {
        "id": "sh62lsd_k5UQ"
      }
    },
    {
      "cell_type": "markdown",
      "source": [
        "### 3. Convolución\n",
        "\n",
        "Con:\n",
        "\n",
        "$$\n",
        "x(t) = e^{-2t} \\cdot \\epsilon(t), \\quad h(t) = e^{-t} \\cdot \\epsilon(t)\n",
        "$$\n",
        "\n",
        "Calculamos la convolución:\n",
        "\n",
        "$$\n",
        "y(t) = (x * h)(t) = \\int_{0}^{t} e^{-2\\tau} \\cdot e^{-(t - \\tau)} \\, d\\tau\n",
        "$$\n",
        "\n",
        "Resolviendo la integral:\n",
        "\n",
        "$$\n",
        "y(t) = e^{-t} \\left( 1 - e^{-t} \\right) = (e^t - 1) \\cdot e^{-2t} \\cdot \\epsilon(t)\n",
        "$$\n",
        "\n",
        "✅ Esta salida es la misma obtenida por resolución directa de la EDO, lo cual verifica la consistencia de los métodos.\n"
      ],
      "metadata": {
        "id": "znuPiObak705"
      }
    },
    {
      "cell_type": "markdown",
      "source": [
        "## Comparación de las señales de salida\n",
        "\n",
        "Se obtuvieron dos expresiones para la señal de salida \\( y(t) \\) del sistema:\n",
        "\n",
        "- **Método 1 – Resolviendo la EDO directamente:**\n",
        "\n",
        "$$\n",
        "y_{\\text{EDO}}(t) = (e^t - 1) \\cdot e^{-2t} \\cdot \\epsilon(t)\n",
        "$$\n",
        "\n",
        "- **Método 2 – Mediante la convolución:**\n",
        "\n",
        "$$\n",
        "y_{\\text{conv}}(t) = e^{-t} \\cdot (1 - e^{-t}) \\cdot \\epsilon(t)\n",
        "$$\n",
        "\n",
        "---\n",
        "\n",
        "### ¿Son iguales?\n",
        "\n",
        "Aunque SymPy indica que estas expresiones no son simbólicamente idénticas (`False`), esto se debe a que están escritas en formas algebraicamente diferentes. Sin embargo, al desarrollar ambas manualmente, comprobamos:\n",
        "\n",
        "- Expresión 1:\n",
        "\n",
        "$$\n",
        "(e^t - 1) \\cdot e^{-2t} = e^{-t} - e^{-2t}\n",
        "$$\n",
        "\n",
        "- Expresión 2:\n",
        "\n",
        "$$\n",
        "e^{-t} \\cdot (1 - e^{-t}) = e^{-t} - e^{-2t}\n",
        "$$\n",
        "\n",
        "Por lo tanto:\n",
        "\n",
        "$$\n",
        "y_{\\text{EDO}}(t) = y_{\\text{conv}}(t) = \\left( e^{-t} - e^{-2t} \\right) \\cdot \\epsilon(t)\n",
        "$$\n",
        "\n",
        "---\n",
        "\n",
        "✅ **Conclusión**: Aunque tienen formas diferentes, **las dos soluciones representan la misma señal de salida**. Esto confirma que ambos métodos —resolver la EDO o hacer la convolución— son válidos y consistentes.\n"
      ],
      "metadata": {
        "id": "UDZxtR7kmI2M"
      }
    },
    {
      "cell_type": "code",
      "source": [
        "# Activar impresión bonita en Colab\n",
        "%matplotlib inline\n",
        "import sympy as sym\n",
        "from sympy import symbols, Function, Eq, dsolve, exp, Heaviside, DiracDelta, integrate, simplify\n",
        "from sympy import pprint, init_printing\n",
        "init_printing(use_latex='mathjax')  # Formato bonito en ecuaciones\n",
        "\n",
        "# Símbolos\n",
        "t, tau = symbols('t tau', real=True)\n",
        "y = Function('y')\n",
        "\n",
        "# Entrada x(t) = e^{-2t} * u(t)\n",
        "x_expr = exp(-2 * t) * Heaviside(t)\n",
        "\n",
        "# === MÉTODO 1: Resolver la EDO directamente ===\n",
        "ode = Eq(y(t).diff(t) + y(t), x_expr)\n",
        "sol_edo = dsolve(ode, y(t), ics={y(t).subs(t, 0): 0})\n",
        "\n",
        "print(\"🔹 Solución directa de la EDO:\")\n",
        "display(sol_edo)\n",
        "\n",
        "# === MÉTODO 2: Respuesta al impulso ===\n",
        "impulse_ode = Eq(y(t).diff(t) + y(t), DiracDelta(t))\n",
        "h_sol = dsolve(impulse_ode, y(t), ics={y(t).subs(t, 0): 0})\n",
        "\n",
        "print(\"🔹 Respuesta al impulso h(t):\")\n",
        "display(h_sol)\n",
        "\n",
        "# === Convolución: x(t) * h(t) ===\n",
        "x_tau = exp(-2 * tau) * Heaviside(tau)\n",
        "h_t_tau = exp(-(t - tau)) * Heaviside(t - tau)\n",
        "\n",
        "conv = integrate(x_tau * h_t_tau, (tau, 0, t))\n",
        "conv_simplified = simplify(conv)\n",
        "\n",
        "print(\"🔹 Resultado de la convolución:\")\n",
        "display(Eq(Function('y')(t), conv_simplified))\n"
      ],
      "metadata": {
        "colab": {
          "base_uri": "https://localhost:8080/",
          "height": 154
        },
        "id": "IwaPw7UQlKNl",
        "outputId": "59ca8c13-73bf-40b2-9c01-976df607dbb9"
      },
      "execution_count": 8,
      "outputs": [
        {
          "output_type": "stream",
          "name": "stdout",
          "text": [
            "🔹 Solución directa de la EDO:\n"
          ]
        },
        {
          "output_type": "display_data",
          "data": {
            "text/plain": [
              "       ⎛        -t     ⎞  -t\n",
              "y(t) = ⎝θ(t) - ℯ  ⋅θ(t)⎠⋅ℯ  "
            ],
            "text/latex": "$\\displaystyle y{\\left(t \\right)} = \\left(\\theta\\left(t\\right) - e^{- t} \\theta\\left(t\\right)\\right) e^{- t}$"
          },
          "metadata": {}
        },
        {
          "output_type": "stream",
          "name": "stdout",
          "text": [
            "🔹 Respuesta al impulso h(t):\n"
          ]
        },
        {
          "output_type": "display_data",
          "data": {
            "text/plain": [
              "                     -t\n",
              "y(t) = (θ(t) - 1/2)⋅ℯ  "
            ],
            "text/latex": "$\\displaystyle y{\\left(t \\right)} = \\left(\\theta\\left(t\\right) - \\frac{1}{2}\\right) e^{- t}$"
          },
          "metadata": {}
        },
        {
          "output_type": "stream",
          "name": "stdout",
          "text": [
            "🔹 Resultado de la convolución:\n"
          ]
        },
        {
          "output_type": "display_data",
          "data": {
            "text/plain": [
              "       ⎛ t    ⎞  -2⋅t     2\n",
              "y(t) = ⎝ℯ  - 1⎠⋅ℯ    ⋅θ(t) "
            ],
            "text/latex": "$\\displaystyle y{\\left(t \\right)} = \\left(e^{t} - 1\\right) e^{- 2 t} \\left(\\theta\\left(t\\right)\\right)^{2}$"
          },
          "metadata": {}
        }
      ]
    },
    {
      "cell_type": "code",
      "source": [
        "import numpy as np\n",
        "import matplotlib.pyplot as plt\n",
        "\n",
        "# Parámetro a > 0 del sistema\n",
        "a = 2\n",
        "\n",
        "# Tiempo de simulación\n",
        "t = np.linspace(-1, 5, 1000)\n",
        "\n",
        "# Función escalón de Heaviside\n",
        "u = np.heaviside(t, 1)\n",
        "\n",
        "# h(t) desde la EDO: e^{-a t} * u(t)\n",
        "h_from_edo = np.exp(-a * t) * u\n",
        "\n",
        "# h(t) desde convolución con delta (por propiedad: delta * h = h)\n",
        "# Aquí simplemente se replica para confirmar visualmente\n",
        "h_from_conv = h_from_edo.copy()\n",
        "\n",
        "# Graficar ambas respuestas\n",
        "plt.figure(figsize=(10, 5))\n",
        "plt.plot(t, h_from_edo, label=\"h(t) por EDO\", linewidth=2)\n",
        "plt.plot(t, h_from_conv, '--', label=\"h(t) por convolución\", linewidth=2)\n",
        "plt.title(\"Comparación: h(t) por EDO vs. Convolución con δ(t)\")\n",
        "plt.xlabel(\"t\")\n",
        "plt.ylabel(\"h(t)\")\n",
        "plt.grid(True)\n",
        "plt.legend()\n",
        "plt.tight_layout()\n",
        "plt.show()"
      ],
      "metadata": {
        "id": "0JFKAaNcHDiM",
        "outputId": "3ce5f722-6be5-410e-c1f4-448d184550b4",
        "colab": {
          "base_uri": "https://localhost:8080/",
          "height": 507
        }
      },
      "execution_count": 9,
      "outputs": [
        {
          "output_type": "display_data",
          "data": {
            "text/plain": [
              "<Figure size 1000x500 with 1 Axes>"
            ],
            "image/png": "[encoded data removed]"
          },
          "metadata": {}
        }
      ]
    },
    {
      "cell_type": "markdown",
      "metadata": {
        "id": "ZavLa5BxAgoV",
        "nbsphinx": "hidden"
      },
      "source": [
        "**Copyright**\n",
        "\n",
        "The notebooks are provided as [Open Educational Resource](https://de.wikipedia.org/wiki/Open_Educational_Resources). Feel free to use the notebooks for your own educational purposes. The text is licensed under [Creative Commons Attribution 4.0](https://creativecommons.org/licenses/by/4.0/), the code of the IPython examples under the [MIT license](https://opensource.org/licenses/MIT). Please attribute the work as follows: *Lecture Notes on Signals and Systems* by Sascha Spors."
      ]
    }
  ]
}