{
  "nbformat": 4,
  "nbformat_minor": 0,
  "metadata": {
    "colab": {
      "private_outputs": true,
      "provenance": [],
      "include_colab_link": true
    },
    "kernelspec": {
      "name": "python3",
      "display_name": "Python 3"
    },
    "language_info": {
      "name": "python"
    }
  },
  "cells": [
    {
      "cell_type": "markdown",
      "metadata": {
        "id": "view-in-github",
        "colab_type": "text"
      },
      "source": [
        "<a href=\"https://colab.research.google.com/github/sanbgos/Se-alesysistemas/blob/main/youtube_detector.ipynb\" target=\"_parent\"><img src=\"https://colab.research.google.com/assets/colab-badge.svg\" alt=\"Open In Colab\"/></a>"
      ]
    },
    {
      "cell_type": "code",
      "execution_count": null,
      "metadata": {
        "id": "qmaPHWwtvLHa"
      },
      "outputs": [],
      "source": [
        "#cargar datos desde drive acceso libre\n",
        "#1UVHl8wyAafw1kgvke9IMi7fwUNv8ZswA\n",
        "FILEID = \"1jZQ7bwFuIWp_AZhKDFR8h8w6-CbKomPA\" #\"1DxI5wQpqEWksw2BqJnG7n0IgNQ_xByX-\"\n",
        "\n",
        "!wget --load-cookies /tmp/cookies.txt \"https://docs.google.com/uc?export=download&confirm=$(wget --quiet --save-cookies /tmp/cookies.txt --keep-session-cookies --no-check-certificate 'https://docs.google.com/uc?export=download&id='$FILEID -O- | sed -rn 's/.*confirm=([0-9A-Za-z_]+).*/\\1\\n/p')&id=\"$FILEID -O  canciones.xlsx && rm -rf /tmp/cookies.txt\n",
        "#!unzip -o codigos.zip\n",
        "!dir"
      ]
    },
    {
      "cell_type": "code",
      "source": [
        "import pandas as pd\n",
        "import numpy as np\n",
        "import matplotlib.pyplot as plt\n",
        "\n",
        "file_ = 'canciones.xlsx'#leer archivo xlsx con link, band, type\n",
        "X  = pd.read_excel(file_)\n",
        "X#imprimir filas iniciales"
      ],
      "metadata": {
        "id": "NF9zfZdPv7JN"
      },
      "execution_count": null,
      "outputs": []
    },
    {
      "cell_type": "code",
      "source": [
        "#instalar librerias necesarias para descargar audios youtube\n",
        "!python3 -m pip install --force-reinstall https://github.com/yt-dlp/yt-dlp/archive/master.tar.gz\n",
        "!pip install soundfile\n",
        "\n",
        "# Paquete de carga de cookies para el control anti-bots captcha\n",
        "!pip install browser-cookie3\n",
        "\n",
        "import os\n",
        "import yt_dlp as youtube_dl\n",
        "import browser_cookie3\n",
        "\n",
        "try:\n",
        "    cookies = browser_cookie3.firefox()\n",
        "except:\n",
        "    print(\"No se pueden descargar cookies desde firefox. Intentando Chrome...\")\n",
        "    try:\n",
        "        cookies = browser_cookie3.chrome()\n",
        "    except:\n",
        "        print(\"No se pueden descargar cookies desde Chrome. Por favor asegúrate de estar logueado en Youtube desde tu navegador.\")\n",
        "        cookies = None\n",
        "\n",
        "#funcion para descargar mp3 desde youtube\n",
        "def download_ytvid_as_mp3(video_url,name):\n",
        "    #video_url = input(\"enter url of youtube video:\")\n",
        "    options={\n",
        "        'format':'bestaudio/best',\n",
        "        'keepvideo':False,\n",
        "        'outtmpl':f'{name}.mp3',\n",
        "    }\n",
        "    if cookies:\n",
        "        options['cookiefile'] = None\n",
        "        options['cookiejar'] = cookies;\n",
        "\n",
        "    with youtube_dl.YoutubeDL(options) as ydl:\n",
        "        try:\n",
        "            video_info = ydl.extract_info(video_url, download=False)\n",
        "            ydl.download([video_info['webpage_url']])\n",
        "            print(\"Download complete... {}\".format(filename))\n",
        "        except Exception as e:\n",
        "            print(f\"Error descargando {video_url}: {e}\")"
      ],
      "metadata": {
        "id": "-0GnJhn9wYpY"
      },
      "execution_count": null,
      "outputs": []
    },
    {
      "cell_type": "code",
      "source": [
        "import subprocess\n",
        "import os\n",
        "\n",
        "#crear carpeta con resultados\n",
        "try:\n",
        "  os.mkdir('results')\n",
        "except:\n",
        "  print(\"Carpeta results ya existe\")\n",
        "\n",
        "#recorrer excel con videos\n",
        "N, P = X.shape\n",
        "Ns = N * 5 #cantidad de segmentos por cancion\n",
        "\n",
        "for n in range(N):\n",
        "    print(f\"video {n+1} de {N}\")\n",
        "    print(f\"link: {X.loc[n,'link']}\\n\")\n",
        "    print(f\"band: {X.loc[n,'band']}\\n\")\n",
        "    print(f\"type: {X.loc[n,'type']}\\n\")\n",
        "    #ruta video n-th\n",
        "    name_ = 'results/'+X.loc[n,'band']+\"_\"+str(n)+\"_\"+str(X.loc[n,'type_num']) # #video+nombre+tipo de genero musical\n",
        "    #descargar mp3 desde youtube\n",
        "    try: # Added try block to catch download errors\n",
        "        download_ytvid_as_mp3(X.loc[n,'link'],name_)\n",
        "        #convertir a .wav\n",
        "        subprocess.call(['ffmpeg','-y', '-i', name_+'.mp3',\n",
        "                       name_+'.wav'])\n",
        "    except youtube_dl.utils.DownloadError as e: # Catch the specific DownloadError\n",
        "        print(f\"Skipping video {X.loc[n,'link']} due to download error: {e}\") # Print a message and skip"
      ],
      "metadata": {
        "id": "8q0Xv9BcwzeD"
      },
      "execution_count": null,
      "outputs": []
    },
    {
      "cell_type": "code",
      "source": [
        "#cargar .wavs y partir audios\n",
        "#lista archivos .wav\n",
        "path = 'results/'\n",
        "wav_files = [f for f in os.listdir(path) if f.endswith('.wav')]\n",
        "wav_files"
      ],
      "metadata": {
        "id": "gX5bdp-7w--s"
      },
      "execution_count": null,
      "outputs": []
    },
    {
      "source": [
        "import soundfile as sf # para instalar pip install soundfile\n",
        "from scipy.signal import resample_poly\n",
        "import numpy as np\n",
        "import os\n",
        "\n",
        "#leer archivos y crear np.array audios\n",
        "fs = 48000\n",
        "tl = np.array([30,40,50,60,70,80]) #puntos lectura\n",
        "ts = 5 #t segmento\n",
        "# The total number of samples for each segment at the target fs\n",
        "segment_length_fs = int(ts * fs)\n",
        "Ns = len(wav_files)*len(tl) #cantidad segmentos\n",
        "# x_t should be initialized with the shape corresponding to the target fs\n",
        "x_t = np.zeros((Ns, segment_length_fs, 2)) #Ns segmentos, cantidad de muestras, 2 canales (stereo)\n",
        "label = np.zeros((Ns,1)) #vector tipo de genero\n",
        "type_c = X['type'].unique()\n",
        "name_c = []\n",
        "#leer archivos wav\n",
        "i = 0\n",
        "for name in wav_files:#lectura audio .wav\n",
        "    x, fs_i = sf.read(path+name)\n",
        "    # Ensure x is at least 2D (for stereo)\n",
        "\n",
        "    if x.ndim == 1:\n",
        "        x = np.expand_dims(x, axis=1) # Add a channel dimension if mono\n",
        "    if x.shape[1] == 1: # If still mono after expand_dims\n",
        "        x = np.repeat(x, 2, axis=1) # Convert mono to stereo by repeating the channel\n",
        "\n",
        "    # Check if the audio file has enough data for the requested segments\n",
        "    if len(x) < int(fs_i * (tl[-1] + ts)):\n",
        "        print(f\"Warning: File {name} is too short for all requested segments. Skipping some segments.\")\n",
        "        valid_tl = tl[tl + ts <= len(x)/fs_i]\n",
        "    else:\n",
        "        valid_tl = tl\n",
        "\n",
        "    for ti in valid_tl: #segmentos de tiempo\n",
        "        print(name,'x',x.shape,'fs actual:',fs_i)\n",
        "\n",
        "        # Slice based on the original sampling rate fs_i\n",
        "        start_sample = int(fs_i * ti)\n",
        "        end_sample = int(fs_i * (ti + ts))\n",
        "        xc = x[start_sample:end_sample, :]\n",
        "\n",
        "        # Check if the sliced segment has enough data for resampling\n",
        "        # This can happen if the calculated end_sample exceeds the actual audio length\n",
        "        if xc.shape[0] < int(ts * fs_i):\n",
        "            print(f\"Warning: Segment from {ti}s to {ti+ts}s in {name} is shorter than expected. Skipping.\")\n",
        "            continue # Skip this segment\n",
        "\n",
        "        if fs_i != fs:\n",
        "            # Resample using resample_poly\n",
        "            # The output length of resample_poly is len(xc) * up / down\n",
        "            # We want the resampled length to be exactly segment_length_fs\n",
        "            # So we need to calculate up and down such that len(xc) * up / down = segment_length_fs\n",
        "            # Or simply use the desired number of samples directly if supported by resample_poly\n",
        "            # resample_poly can take 'nyq' or 'kaiser_beta' arguments for filter design,\n",
        "            # but for simple resampling to a target number of points, a direct approach is needed.\n",
        "            # A simpler resample function might be better, or calculate up/down differently.\n",
        "\n",
        "            # Let's use a method that targets the desired number of samples directly.\n",
        "            # scipy.signal.resample can do this, but it uses FFT and might not be ideal.\n",
        "            # Let's adjust the resampling calculation with resample_poly to ensure the correct output size.\n",
        "            # Target output size is segment_length_fs.\n",
        "            # Current size is xc.shape[0].\n",
        "            # We want xc.shape[0] * (up / down) = segment_length_fs\n",
        "            # Let's find up and down that approximate fs/fs_i\n",
        "            # A more robust way is to use a library that handles resampling to a specific length.\n",
        "            # For now, let's ensure the resampled array is truncated or padded if necessary,\n",
        "            # although it's better to get the resampling right.\n",
        "\n",
        "            # A common approach for arbitrary resampling is\n",
        "            # import librosa\n",
        "            # xc_resampled = librosa.resample(xc, orig_sr=fs_i, target_sr=fs)\n",
        "            # However, this outputs a 1D array for mono. Need to handle stereo.\n",
        "\n",
        "            # Let's stick with resample_poly but ensure the output is the correct size.\n",
        "            # If resampling makes it slightly longer or shorter, we'll handle it.\n",
        "            gcd_val = np.gcd(fs, fs_i)\n",
        "            up_val = fs // gcd_val\n",
        "            down_val = fs_i // gcd_val\n",
        "\n",
        "            # Resample each channel separately\n",
        "            xc_resampled_ch1 = resample_poly(xc[:, 0], up=up_val, down=down_val)\n",
        "            xc_resampled_ch2 = resample_poly(xc[:, 1], up=up_val, down=down_val)\n",
        "\n",
        "            # Combine channels\n",
        "            xc_resampled = np.stack((xc_resampled_ch1, xc_resampled_ch2), axis=-1)\n",
        "\n",
        "            # Ensure the resampled segment has the target length (segment_length_fs)\n",
        "            if xc_resampled.shape[0] > segment_length_fs:\n",
        "                xc_resampled = xc_resampled[:segment_length_fs, :]\n",
        "            elif xc_resampled.shape[0] < segment_length_fs:\n",
        "                # Pad with zeros if shorter\n",
        "                padding = np.zeros((segment_length_fs - xc_resampled.shape[0], 2))\n",
        "                xc_resampled = np.vstack((xc_resampled, padding))\n",
        "\n",
        "            xc = xc_resampled # Use the resampled array\n",
        "            print(f\"Resampled to shape: {xc.shape}\")\n",
        "\n",
        "        # Now xc should have the shape (segment_length_fs, 2) which is (240000, 2)\n",
        "        if xc.shape[0] != segment_length_fs:\n",
        "             print(f\"Error: Resampled segment has incorrect length {xc.shape[0]}. Expected {segment_length_fs}. Skipping.\")\n",
        "             continue # Skip this segment if resampling failed to produce correct length\n",
        "\n",
        "\n",
        "        x_t[i] = xc\n",
        "        # The label indexing seems to assume the order of wav_files matches the order in X\n",
        "        # and the type_num is the last digit before '.wav' and is 1 or 2.\n",
        "        # This might be fragile. Consider using the 'type_num' column from X directly\n",
        "        # based on the filename or a mapping.\n",
        "        # For now, sticking to the original logic for the label.\n",
        "        try:\n",
        "             # Extract type_num from the filename\n",
        "             parts = name.split('_')\n",
        "             type_num_str = parts[-1].split('.')[0]\n",
        "             label[i] = int(type_num_str)\n",
        "        except (IndexError, ValueError):\n",
        "             print(f\"Warning: Could not extract type_num from filename {name}. Setting label to 0.\")\n",
        "             label[i] = 0 # Assign a default or error label\n",
        "\n",
        "        # The name_c logic also seems to assume the filename format.\n",
        "        # Sticking to original logic.\n",
        "        name_c += [name[:-4]] # Remove '.wav' from the end\n",
        "\n",
        "\n",
        "        print(f\"{i} lectura: {name}; segundo {ti}:{ti+ts}; tipo música: {type_c[int(label[i])-1]}\")\n",
        "        i+=1\n",
        "\n",
        "# After the loop, if some segments were skipped, the actual number of populated segments in x_t and label\n",
        "# might be less than Ns. We should truncate these arrays to the actual number of populated segments.\n",
        "# Ns was calculated based on the initial assumption of processing all segments.\n",
        "# Let's re-calculate the effective Ns (number of processed segments).\n",
        "effective_Ns = i\n",
        "x_t = x_t[:effective_Ns]\n",
        "label = label[:effective_Ns]\n",
        "name_c = name_c[:effective_Ns]\n",
        "\n",
        "x_t.shape"
      ],
      "cell_type": "code",
      "metadata": {
        "id": "F2iqEiiD7Lkd"
      },
      "execution_count": null,
      "outputs": []
    },
    {
      "cell_type": "code",
      "source": [
        "from IPython.display import Audio #reproducir segmento\n",
        "i = 0\n",
        "Audio(x_t[i].T,rate=fs)"
      ],
      "metadata": {
        "id": "YM3ltcs6zOHW"
      },
      "execution_count": null,
      "outputs": []
    },
    {
      "cell_type": "code",
      "source": [
        "#calculo de fourier\n",
        "vf = np.fft.rfftfreq(x_t.shape[1],1/fs) #calculo vector de frecuencias\n",
        "Xw = np.fft.rfft(x_t,axis=1).mean(axis=-1) #transformada rapida de Fourier para señal Real a lo largo del tiempo (axis=1) y se promedian los dos canales\n",
        "Xw.shape"
      ],
      "metadata": {
        "id": "qcd1pUoz2KM5"
      },
      "execution_count": null,
      "outputs": []
    },
    {
      "cell_type": "code",
      "source": [
        "#grafica tiempo y fourier\n",
        "plt.plot(np.arange(0,ts,1/fs),x_t.mean(axis=-1).T) #se promedian los dos canales stereo\n",
        "plt.xlabel('t[s]')\n",
        "plt.ylabel('x(t)')\n",
        "plt.show()"
      ],
      "metadata": {
        "id": "NiacFvIx4vpD"
      },
      "execution_count": null,
      "outputs": []
    },
    {
      "cell_type": "code",
      "source": [
        "plt.plot(vf,abs(Xw).T)\n",
        "plt.xlabel('f[Hz]')\n",
        "plt.ylabel('|X(f)|')\n",
        "plt.show()"
      ],
      "metadata": {
        "id": "roZkalWc5cqA"
      },
      "execution_count": null,
      "outputs": []
    },
    {
      "cell_type": "code",
      "source": [
        "#se normalizan espectros entre 0 y 1 para evitar inconsistencias por ampliltudes máximas\n",
        "from sklearn.preprocessing import MinMaxScaler\n",
        "sca = MinMaxScaler()\n",
        "Xw_ = sca.fit_transform(abs(Xw).T).T\n",
        "\n",
        "plt.plot(vf,Xw_.T)\n",
        "plt.xlabel('f[Hz]')\n",
        "plt.ylabel('|X(f)|')\n",
        "plt.show()\n",
        "\n",
        "#en dB\n",
        "plt.plot(vf,(20*np.log10(Xw_+1e-10)).T) # se suma 1e-10 para evitar discontinuidad del log\n",
        "plt.xlabel('f[Hz]')\n",
        "plt.ylabel('|X(f)| dB')\n",
        "plt.show()"
      ],
      "metadata": {
        "id": "DR4Tw83c6b-1"
      },
      "execution_count": null,
      "outputs": []
    },
    {
      "cell_type": "markdown",
      "source": [
        "**Nota**: Generalmente el espectro se presenta en [decibeles [dB]](https://es.wikipedia.org/wiki/Decibelio)"
      ],
      "metadata": {
        "id": "AXaYxHDVQj1L"
      }
    },
    {
      "cell_type": "markdown",
      "source": [
        "## Visualización de los datos en 2D"
      ],
      "metadata": {
        "id": "zgPMJDn8iQiQ"
      }
    },
    {
      "cell_type": "code",
      "source": [
        "from umap import UMAP\n",
        "#visualización de datos\n",
        "n_neighbors = int(2*np.sqrt(Xw_.shape[0]))\n",
        "sca_ = MinMaxScaler()\n",
        "\n",
        "red_ = UMAP(n_components=2,n_neighbors=n_neighbors)\n",
        "X_2D = sca_.fit_transform(red_.fit_transform(Xw_))"
      ],
      "metadata": {
        "id": "UZGVCWRk1eAz"
      },
      "execution_count": null,
      "outputs": []
    },
    {
      "cell_type": "code",
      "source": [
        "#graficar separabilidad 2D\n",
        "plt.scatter(X_2D[:,0],X_2D[:,1],c=label)\n",
        "plt.colorbar()\n",
        "plt.show()\n",
        "\n",
        "color_ = [\"b\",\"y\"]\n",
        "#nombre cancion\n",
        "plt.scatter(X_2D[:,0],X_2D[:,1],c=label,s=1)\n",
        "for i, tex in enumerate(name_c):\n",
        "    #print(f\"{i} {tex}\")\n",
        "    plt.text(X_2D[i,0]*1.025,X_2D[i,1]*1.025, tex[:-2]+\"_\"+str(i), fontsize=6,color=color_[int(label[i]-1)])\n",
        "\n",
        "plt.xlim([-0.1,1.1])\n",
        "plt.ylim([-0.1,1.1])\n",
        "plt.show()"
      ],
      "metadata": {
        "id": "A2Tmfe-57ZEG"
      },
      "execution_count": null,
      "outputs": []
    },
    {
      "cell_type": "code",
      "source": [
        "#reproducir audio\n",
        "i = 1\n",
        "Audio(x_t[i].T,rate=fs)"
      ],
      "metadata": {
        "id": "fubfCcH5CHzN"
      },
      "execution_count": null,
      "outputs": []
    },
    {
      "cell_type": "markdown",
      "source": [
        "# Predicción del género musical sobre espectro de Fourier"
      ],
      "metadata": {
        "id": "7f1dbQS2i_az"
      }
    },
    {
      "cell_type": "code",
      "source": [
        "from sklearn.model_selection import cross_val_score\n",
        "from sklearn.ensemble import RandomForestClassifier\n",
        "from sklearn.neighbors import KNeighborsClassifier\n",
        "\n",
        "# Crear una instancia del clasificador RandomForest\n",
        "model = KNeighborsClassifier(n_neighbors=5)\n",
        "\n",
        "# Realizar la validación cruzada\n",
        "# Xw_ son tus características y label son tus etiquetas\n",
        "# cv define el número folds para la validación cruzada\n",
        "scores = cross_val_score(model, Xw_, label.ravel(), cv=5,scoring='accuracy')\n",
        "\n",
        "# Imprimir los resultados de la validación cruzada\n",
        "print(\"Acierto para cada Fold:\", scores)\n",
        "print(\"Acierto promedio:\", scores.mean())\n",
        "print(\"Desviación estándar del Acierto:\", scores.std())\n",
        "\n",
        "#entrenar modelo para predecir nuevas canciones\n",
        "model.fit(Xw_, label.ravel())"
      ],
      "metadata": {
        "id": "XgvontVai8Qk"
      },
      "execution_count": null,
      "outputs": []
    },
    {
      "cell_type": "code",
      "source": [
        "import joblib\n",
        "#guardar modelo\n",
        "try:\n",
        "  os.mkdir('modelo')\n",
        "except:\n",
        "  print(\"Carpeta modelo ya existe\")\n",
        "\n",
        "filename_ = 'modelo/reggaeton_vs_metal'\n",
        "model_ ={'Xw_':Xw_, 'label' : label, 'name_c' : name_c, 'vf':vf,'fs':fs, 'modelo':model,'type':X['type'].unique()}\n",
        "joblib.dump(model_,filename_+\".pkl\")\n"
      ],
      "metadata": {
        "id": "JFDhqdxH79cI"
      },
      "execution_count": null,
      "outputs": []
    },
    {
      "cell_type": "code",
      "source": [
        "#descargar modelo\n",
        "#guardar resultados\n",
        "from google.colab import files\n",
        "from datetime import date, datetime\n",
        "import shutil\n",
        "#guardar resultados\n",
        "namefile = str(datetime.now().strftime(\"%Y_%m_%d_%H_%M_%d\"))+'modelo'\n",
        "shutil.make_archive(namefile, 'zip', 'modelo')\n",
        "files.download(namefile+'.zip')\n",
        "\n",
        "#el archivo .zip puede cargarse en drive y utilizarse en otro cuaderno para detectar género musical de nuevos segmentos"
      ],
      "metadata": {
        "id": "7zWJ8LNQBjNk"
      },
      "execution_count": null,
      "outputs": []
    },
    {
      "cell_type": "markdown",
      "source": [
        "# Para una nueva canción"
      ],
      "metadata": {
        "id": "Wh19I5HGlwyt"
      }
    },
    {
      "cell_type": "code",
      "source": [
        "#cargar modelo\n",
        "my_model_loaded = joblib.load(filename_+\".pkl\")\n",
        "my_model_loaded.keys()"
      ],
      "metadata": {
        "id": "LRJ7txqCA1bI"
      },
      "execution_count": null,
      "outputs": []
    },
    {
      "cell_type": "code",
      "source": [
        "#evaluar para un segmento en fft normalizado\n",
        "\n",
        "pred_ = my_model_loaded['modelo'].predict(Xw_[0].reshape(1,-1))[0]\n",
        "print('Etiqueta estimada: ',my_model_loaded['type'][int(pred_-1)])\n",
        "print('Etiqueta orignal: ',my_model_loaded['type'][int(my_model_loaded['label'][0][0])-1])"
      ],
      "metadata": {
        "id": "k5ykNmZem4ch"
      },
      "execution_count": null,
      "outputs": []
    },
    {
      "cell_type": "code",
      "source": [],
      "metadata": {
        "id": "EDXDlpnfreE6"
      },
      "execution_count": null,
      "outputs": []
    }
  ]
}