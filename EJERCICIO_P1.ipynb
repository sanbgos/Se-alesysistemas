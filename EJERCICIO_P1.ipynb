{
  "nbformat": 4,
  "nbformat_minor": 0,
  "metadata": {
    "colab": {
      "private_outputs": true,
      "provenance": [],
      "include_colab_link": true
    },
    "kernelspec": {
      "name": "python3",
      "display_name": "Python 3"
    },
    "language_info": {
      "name": "python"
    }
  },
  "cells": [
    {
      "cell_type": "markdown",
      "metadata": {
        "id": "view-in-github",
        "colab_type": "text"
      },
      "source": [
        "<a href=\"https://colab.research.google.com/github/sanbgos/Se-alesysistemas/blob/main/EJERCICIO_P1.ipynb\" target=\"_parent\"><img src=\"https://colab.research.google.com/assets/colab-badge.svg\" alt=\"Open In Colab\"/></a>"
      ]
    },
    {
      "cell_type": "code",
      "source": [],
      "metadata": {
        "id": "p1Tc1shJRM__"
      },
      "execution_count": null,
      "outputs": []
    },
    {
      "cell_type": "markdown",
      "source": [
        "**PARTE1**"
      ],
      "metadata": {
        "id": "fp7u9kZIRLtT"
      }
    },
    {
      "cell_type": "code",
      "source": [
        "from sympy import *\n",
        "t, T , n , A= symbols('t T n A')\n",
        "rect = Heaviside(t + T/4) - Heaviside(t - T/4)\n",
        "w0= 2*pi/T\n",
        "x2= cos(n*w0*t)\n",
        "\n",
        "int1= integrate(A*x2, (t, -T/4, T/4))\n",
        "an = simplify((2/T)*(int1))\n",
        "print(\"Parte real de an:\")\n",
        "an"
      ],
      "metadata": {
        "id": "ahbj_heqH_jZ"
      },
      "execution_count": null,
      "outputs": []
    },
    {
      "cell_type": "code",
      "source": [
        "cn= simplify((1/2)*(an))\n",
        "cn"
      ],
      "metadata": {
        "id": "66JcOQo9XyYx"
      },
      "execution_count": null,
      "outputs": []
    },
    {
      "cell_type": "code",
      "source": [
        "import sympy as sym\n",
        "t= symbols('t')\n",
        "T=4\n",
        "rect= sym.Heaviside(t+T/4)- sym.Heaviside(t-T/4)\n",
        "p = sym.plot(rect, (t, -T/2, T/2), ylim=[-0.5, 1.5], ylabel='$x(t)$', xlabel='t', show=False)\n",
        "p.title = 'Función '\n",
        "p.show()"
      ],
      "metadata": {
        "id": "kXJzkNHQPWZR"
      },
      "execution_count": null,
      "outputs": []
    },
    {
      "cell_type": "markdown",
      "source": [
        "**PARTE** **2**\n"
      ],
      "metadata": {
        "id": "scyd3AXpEQqy"
      }
    },
    {
      "cell_type": "code",
      "source": [
        "import numpy as np\n",
        "import matplotlib.pyplot as plt\n",
        "import sympy as sym\n",
        "\n",
        "# Definir la variable simbólica\n",
        "t = sym.symbols('t')\n",
        "\n",
        "# Parámetros\n",
        "T = 4\n",
        "B = 5\n",
        "\n",
        "# Función definida en [-T/4, T/4] y 0 fuera de ese rango\n",
        "rampa = sym.Piecewise(\n",
        "    (B * (t + T/4) / (T/4), sym.And(t >= -T/4, t < 0)),   # Subida\n",
        "    (B * (T/4 - t) / (T/4), sym.And(t >= 0, t <= T/4)),   # Bajada\n",
        "    (0, True)  # Cero fuera del intervalo [-T/4, T/4]\n",
        ")\n",
        "\n",
        "# Graficar en un intervalo más amplio\n",
        "p = sym.plot(rampa, (t, -T/2, T/2), ylim=[-0.5, B + 1], ylabel='$x(t)$', xlabel='t', show=False)\n",
        "p.title = 'Función rampa '\n",
        "p.show()\n"
      ],
      "metadata": {
        "id": "Mi8CP00KRJYr"
      },
      "execution_count": null,
      "outputs": []
    },
    {
      "cell_type": "code",
      "execution_count": null,
      "metadata": {
        "id": "MOeJa81k6rCi"
      },
      "outputs": [],
      "source": [
        "from sympy import symbols, cos, integrate, simplify, Eq, pretty, Piecewise,latex\n",
        "\n",
        "# Definir símbolos\n",
        "t, T, B, n, w0 = symbols('t T B n w0', real=True)\n",
        "\n",
        "# Definir funciones por tramos\n",
        "x1 = (4*B/T)*t + B\n",
        "x2 = (-4*B/T)*t + B\n",
        "\n",
        "# Calcular integrales\n",
        "int1 = integrate(x1 * cos(n*w0*t), (t, -T/4, 0))\n",
        "int2 = integrate(x2 * cos(n*w0*t), (t, 0, T/4))\n",
        "\n",
        "\n",
        "an = simplify((2/T)*(int1 + int2))\n",
        "an"
      ]
    },
    {
      "cell_type": "markdown",
      "source": [],
      "metadata": {
        "id": "oY-xm6Oo74SW"
      }
    },
    {
      "cell_type": "markdown",
      "source": [
        "si $$n=0\\ o\\ W0=0$$, entonces:\n",
        "$$\n",
        "a_n=\\frac{B}{\\\\2}\n",
        "$$\n",
        "\n",
        "En cualquier otro caso, es:\n",
        "\n",
        "$$\n",
        "a_n= \\frac{16B(1-cos(TnW_0))}{\\\\T^2n^2W_0^2}\n",
        "$$\n",
        "\n"
      ],
      "metadata": {
        "id": "FEogvCLD-CT1"
      }
    },
    {
      "cell_type": "code",
      "source": [
        "from sympy import simplify\n",
        "\n",
        "# c_n = Re(C_n) = a_n / 2\n",
        "cn = simplify(r / 2)\n",
        "print(\"Parte real de Cn (c_n):\")\n",
        "cn\n"
      ],
      "metadata": {
        "id": "JIASRIrABCZ0"
      },
      "execution_count": null,
      "outputs": []
    },
    {
      "cell_type": "markdown",
      "source": [
        "si $n=0$ o $W_0=0$,\n",
        "$$\n",
        "C_n= \\frac{B}{\\\\4}\n",
        "$$\n",
        "\n",
        "en otro caso:\n",
        "$$\n",
        "C_n= \\frac{8B(1-cos(\\frac{TnW_0}{\\\\4})}{\\\\T^2n^2W_0^2}\n",
        "$$"
      ],
      "metadata": {
        "id": "oN5GDS2mBcJh"
      }
    },
    {
      "cell_type": "code",
      "source": [
        "#Este código realiza la reconstrucción de una señal rectangular utilizando la Serie de Fourier.\n",
        "\n",
        "from matplotlib import animation, rc\n",
        "from IPython.display import HTML\n",
        "from ipywidgets import interact,IntSlider\n",
        "import matplotlib as mpl\n",
        "import matplotlib.pyplot as plt\n",
        "import numpy as np\n",
        "import warnings\n",
        "\n",
        "A = 1 # amplitud de la señal\n",
        "T = 5 # segundos de gráfica\n",
        "Fs = 100 # frecuencia de muestreo definida\n",
        "tv = np.arange(-T/2,T/2,1/Fs) #vector de tiempo generado\n",
        "Nm = len(tv) #numero de muestras requeridas\n",
        "N = 10 #numero armonicos\n",
        "wo = 2*np.pi/T # frecuencia fundamental\n",
        "\n",
        "# definir bases\n",
        "phin = np.zeros((Nm,2*N+1),dtype=np.complex128)#crear matriz para guardar bases\n",
        "for n in range(-N,N+1,1):\n",
        "    phin[:,n+N] = np.exp(1j*n*wo*tv) #base de fourier en el intervalo de interés\n",
        "\n",
        "#Definir la señal (xo) como un pulso rectangular centrada en t=0, con activación en -tau/4 y desactivado en tau/4\n",
        "tau = T\n",
        "xo = A * (np.heaviside(tv + tau/4, 0) - np.heaviside(tv - tau/4, 0))\n",
        "\n",
        "#calcular espectro -> cambiar según la señal estudiada\n",
        "cn = np.zeros(2*N+1,dtype=np.complex128)\n",
        "nv = np.linspace(-N, N, 2*N+1) #vector num armónicos\n",
        "Cn = ((A)/(nv*np.pi))*(np.sin(nv*(np.pi/2)))\n",
        "Cn[N] = A/2 # nivel dc C_0\n",
        "\n",
        "#graficar señal original\n",
        "plt.plot(tv,xo,'r',linewidth=4)\n",
        "plt.grid()\n",
        "plt.xlabel(\"t[s]\",fontsize = 14)\n",
        "plt.ylabel(\"x(t)\",fontsize = 14)\n",
        "plt.show()\n",
        "\n",
        "\n",
        "# Función para graficar una base específica\n",
        "def plot_base(n):\n",
        "    plt.clf()  # Limpia la figura actual\n",
        "    base = phin[:, n]  # Obtiene la base correspondiente al índice n\n",
        "\n",
        "    plt.plot(tv, np.real(base)) #label=f\"Re(base {n})\")\n",
        "    plt.plot(tv, np.imag(base)) #label=f\"Im(base {n})\")\n",
        "    plt.plot(tv, xo, 'r', linewidth=2) #label=\"Pulso rectangular\")\n",
        "\n",
        "    plt.title(f\"Base de Fourier {n}\")\n",
        "    plt.xlabel(\"Tiempo (s)\")\n",
        "    plt.ylabel(\"Amplitud\")\n",
        "    plt.legend()\n",
        "    #plt.legend(bbox_to_anchor=(1.05, 1), loc='upper left')\n",
        "\n",
        "    plt.grid(True)\n",
        "    plt.show()\n",
        "\n",
        "# Crea un control deslizante para seleccionar la base\n",
        "interact(plot_base, n=IntSlider(min=0, max=phin.shape[1]-1, step=1, value=0))"
      ],
      "metadata": {
        "id": "Ku_EXKVZBhsQ"
      },
      "execution_count": null,
      "outputs": []
    }
  ]
}