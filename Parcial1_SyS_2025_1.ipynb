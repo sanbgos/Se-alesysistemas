{
  "nbformat": 4,
  "nbformat_minor": 0,
  "metadata": {
    "colab": {
      "private_outputs": true,
      "provenance": [],
      "authorship_tag": "ABX9TyOmDRrBVVSy9kilHYekQN4I",
      "include_colab_link": true
    },
    "kernelspec": {
      "name": "python3",
      "display_name": "Python 3"
    },
    "language_info": {
      "name": "python"
    }
  },
  "cells": [
    {
      "cell_type": "markdown",
      "metadata": {
        "id": "view-in-github",
        "colab_type": "text"
      },
      "source": [
        "<a href=\"https://colab.research.google.com/github/sanbgos/Se-alesysistemas/blob/main/Parcial1_SyS_2025_1.ipynb\" target=\"_parent\"><img src=\"https://colab.research.google.com/assets/colab-badge.svg\" alt=\"Open In Colab\"/></a>"
      ]
    },
    {
      "cell_type": "markdown",
      "source": [
        "# Parcial 1: Señales y Sistemas 2024-II\n",
        "\n",
        " ## Profesor: Andrés Marino Álvarez Meza, Ph.D.\n",
        "\n",
        "\n",
        "## Departamento de Ingeniería Eléctrica, Electrónica, y Computación\n",
        "## Universidad Nacional de Colombia - sede Manizales"
      ],
      "metadata": {
        "id": "H_bHNxK2V_Xm"
      }
    },
    {
      "cell_type": "markdown",
      "source": [
        " -- Para recibir crédito total por sus respuestas, estas deben estar claramente   justificadas e ilustrar sus procedimientos y razonamientos (paso a paso) de forma concreta, clara y completa.\n",
        "\n",
        "-- El parcial debe ser enviado al correo electrónico amalvarezme@unal.edu.co antes de las 23:59 del 16 de mayo de 2025, vía link de GitHub, con com\n",
        "ponentes teóricas de solución a mano en formato pdf y componentes de simulación en un cuaderno de Python. Si el orreo unal o GitHub presentan inconsistencias, enviar los archivos como adjunto en .zip.\n",
        "\n",
        "-- Loscódigos deben estar debidamente comentados y discuti\n",
        "dos en celdas de texto (markdown). Códigos no comentados ni discutidos, no serán contabilizados en la nota final.\n",
        "\n",
        "-- Incluir en el asunto del correo de env´ ıo del parcial: Parcial 1 SyS 2025-1: Nombre completo."
      ],
      "metadata": {
        "id": "ywrI5_BqWI4Q"
      }
    },
    {
      "cell_type": "markdown",
      "source": [
        "# Pregunta 1\n",
        "Se tiene un microprocesador de 5 bits con entrada análoga de -3.3 a 5[v]. Diseñe el sistema de acondicionamiento y digitalización para la señal: $x(t) = 20\\sin(7t−π/2)−3\\cos(5t)+2\\cos(10t)$. Presente las simulaciones y gráficas de los pro\n",
        "cedimientos más representativos en un cuaderno de Python, incluyendo al menos dos períodos de la señal estudiada."
      ],
      "metadata": {
        "id": "y4hWhqBAZcTN"
      }
    },
    {
      "cell_type": "markdown",
      "source": [
        "Graficamos la señal analógica original"
      ],
      "metadata": {
        "id": "uP1-lRfjd--9"
      }
    },
    {
      "cell_type": "code",
      "source": [
        "import numpy as np\n",
        "import matplotlib.pyplot as plt\n",
        "\n",
        "# Período fundamental de la señal compuesta\n",
        "T_0 = 2*np.pi # Periodo fundamental o total\n",
        "\n",
        "# Amplitudes\n",
        "A_1 = 20\n",
        "A_2 = 3\n",
        "A_3 = 2\n",
        "\n",
        "# Frecuencias angulares\n",
        "w1 = 7     # rad/s\n",
        "w2 = 5     # rad/s\n",
        "w3 = 10    # rad/s\n",
        "\n",
        "# Tiempo de simulación (2 períodos fundamentales)\n",
        "ti = -T_0\n",
        "tf = T_0\n",
        "\n",
        "# Frecuencia de muestreo: al menos el doble de la máxima frecuencia (Nyquist)\n",
        "f_max = w3 / (2 * np.pi)  # frecuencia en Hz\n",
        "Fs = 10 * f_max           # muestreo 10 veces mayor para buena visualización\n",
        "Ts = 1 / Fs\n",
        "\n",
        "# Vector de tiempo\n",
        "tv = np.arange(ti, tf, Ts)\n",
        "\n",
        "# Construcción de la señal\n",
        "xv = A_1 * np.sin(w1 * tv-np.pi/2) - A_2 * np.cos(w2 * tv) + A_3 * np.cos(w3 * tv)\n",
        "\n",
        "# Graficar señal continua\n",
        "plt.plot(tv, xv, 'b')\n",
        "plt.xlabel('Tiempo [s]')\n",
        "plt.ylabel('x(t)')\n",
        "plt.title('Señal compuesta muestreada (2 períodos)')\n",
        "plt.grid(True)\n",
        "plt.show()"
      ],
      "metadata": {
        "id": "bBRxr93k7E0N"
      },
      "execution_count": null,
      "outputs": []
    },
    {
      "cell_type": "code",
      "source": [
        "# Definir la función my_ceropen (cero y pendiente)\n",
        "def my_ceropen(x, ymin=0, ymax=200):\n",
        "  xmax = max(x)\n",
        "  xmin = min(x)\n",
        "  m = (ymax - ymin) / (xmax - xmin)\n",
        "  c = ymin - m * xmin\n",
        "  yv = m * x + c\n",
        "  return yv\n",
        "\n",
        "# Redefinir \"y\" como se definió en la parte anterior\n",
        "y = 20 * np.sin(7 * tv-np.pi/2) - 3 * np.cos(5 * tv) + 2 * np.cos(10 * tv)\n",
        "\n",
        "  #cero y pendiente\n",
        "ycs = my_ceropen(y, ymin=-3.3,ymax=3.3)\n",
        "\n",
        "\n",
        "#número de bits y vector de cuantización\n",
        "nbits = 5\n",
        "rmin = -3.3\n",
        "rmax = 5\n",
        "ve = np.linspace(rmin,rmax,2**nbits) # (rmax-rmin)/(2^#bits - 1) -> si se quiere incluir rmin y rmax\n",
        "from scipy.spatial.distance import cdist\n",
        "\n",
        "\n",
        "# Función de cuantización\n",
        "def my_cuantizador(yn, vq):\n",
        "  dn = cdist(np.array(yn).reshape(-1, 1), vq.reshape(-1, 1))\n",
        "  ind = np.argmin(dn, axis=1)\n",
        "  return vq[ind]\n",
        "\n",
        "# Cuantizar la señal\n",
        "yq = np.zeros_like(ycs)\n",
        "for i in range(len(ycs)):\n",
        "  yq[i] = my_cuantizador(ycs[i], ve)\n",
        "\n",
        "# Graficar\n",
        "plt.figure(figsize=(10, 6))\n",
        "plt.plot(tv, ycs, c='black', label='ycs') # Señal original\n",
        "plt.stem(tv, ycs, label='ycs_dis') # Señal discretizada\n",
        "plt.plot(tv, yq, c='y', marker='o', label='ydig', linewidth=2)  # Señal cuantificada\n",
        "# Mostrar niveles de cuantificación\n",
        "for v in ve:\n",
        "  plt.plot(tv,v*np.ones(len(tv)))\n",
        "plt.legend()\n",
        "plt.grid()\n",
        "plt.xlabel('t')\n",
        "plt.ylabel('Amplitud')\n",
        "plt.title('Señal Original, Discretizada y Cuantificada')\n",
        "plt.show()\n"
      ],
      "metadata": {
        "id": "KhXXtyGCCPxG"
      },
      "execution_count": null,
      "outputs": []
    },
    {
      "cell_type": "markdown",
      "source": [
        "# Pregunta 2\n",
        "¿Cuál es la señal obtenida en tiempo discreto al utilizar un conversor análogo digital con frecuencia de muestreo de 5kHz, aplicado a la señal $x(t) = 3\\cos(1000πt) + 5\\sin(2000πt) + 10\\cos(11000πt)?$. Realizar la simulación del proceso de discretización. En caso de que la discretización no sea apropiada, diseñe e implemente un conversor adecuado para la señal estudiada.\n",
        "\n"
      ],
      "metadata": {
        "id": "bzuC8MrxGzrk"
      }
    },
    {
      "cell_type": "code",
      "source": [
        "import numpy as np\n",
        "import matplotlib.pyplot as plt\n",
        "\n",
        "# Parámetros de la señal\n",
        "Fs = 5000  # Frecuencia de muestreo (Hz)\n",
        "t = np.linspace(0, 0.01, 1000)  # Tiempo continuo (10 ms)\n",
        "\n",
        "# Frecuencias angulares continuas\n",
        "w1 = 1000 * np.pi\n",
        "w2 = 2000 * np.pi\n",
        "w3 = 11000 * np.pi\n",
        "\n",
        "# Señal continua\n",
        "x_t = 3 * np.cos(w1 * t) + 5 * np.sin(w2 * t) + 10 * np.cos(w3 * t)\n",
        "\n",
        "# Señal discretizada\n",
        "N = 50  # Número de muestras\n",
        "n = np.arange(N)\n",
        "\n",
        "# Frecuencias angulares normalizadas (Omega = w / Fs)\n",
        "Omega1 = w1 / Fs\n",
        "Omega2 = w2 / Fs\n",
        "Omega3 = w3 / Fs\n",
        "\n",
        "# Aliasing: llevar Omega3 al intervalo [-pi, pi]\n",
        "if Omega3 > np.pi:\n",
        "    Omega3_alias = Omega3 - 2*np.pi\n",
        "else:\n",
        "    Omega3_alias = Omega3\n",
        "\n",
        "# Mostrar frecuencias normalizadas antes y después de aliasing\n",
        "print(f\"Ω1 = {Omega1:.2f} rad/muestra\")\n",
        "print(f\"Ω2 = {Omega2:.2f} rad/muestra\")\n",
        "print(f\"Ω3 antes de aliasing = {Omega3:.2f} rad/muestra\")\n",
        "print(f\"Ω3 después de aliasing = {Omega3_alias:.2f} rad/muestra\")\n",
        "\n",
        "# Señal discretizada después de aliasing\n",
        "x_n = (13) * np.cos(Omega1 * n) + 5 * np.sin(Omega2 * n)\n",
        "\n",
        "# Graficar señal continua y discretizada\n",
        "plt.figure(figsize=(14, 6))\n",
        "\n",
        "# Señal continua\n",
        "plt.subplot(2, 1, 1)\n",
        "plt.plot(t*1000, x_t, label='Señal continua $x(t)$', color='orange')\n",
        "plt.title('Señal continua original')\n",
        "plt.xlabel('Tiempo (ms)')\n",
        "plt.ylabel('Amplitud')\n",
        "plt.grid(True)\n",
        "plt.legend()\n",
        "\n",
        "# Señal discretizada\n",
        "plt.subplot(2, 1, 2)\n",
        "plt.stem(n, x_n, basefmt=\" \", label='Señal discretizada $x[n]$', linefmt='orange', markerfmt='o')\n",
        "plt.title('Señal discretizada (con de aliasing)')\n",
        "plt.xlabel('Muestra n')\n",
        "plt.ylabel('Amplitud')\n",
        "plt.grid(True)\n",
        "plt.legend()\n",
        "\n",
        "plt.tight_layout()\n",
        "plt.show()\n"
      ],
      "metadata": {
        "id": "0dR4GMIsWeqO"
      },
      "execution_count": null,
      "outputs": []
    },
    {
      "cell_type": "code",
      "source": [
        "import numpy as np\n",
        "import matplotlib.pyplot as plt\n",
        "\n",
        "# Parámetros de la señal\n",
        "A1, A2, A3 = 3, 5, 10\n",
        "w1 = 1000 * np.pi   # 500 Hz\n",
        "w2 = 2000 * np.pi   # 1000 Hz\n",
        "w3 = 11000 * np.pi  # 5500 Hz\n",
        "\n",
        "# Intervalo de tiempo corto para visualización\n",
        "t_12k = np.arange(0, 0.005, 1/12000)\n",
        "\n",
        "# Señal muestreada a 12 kHz (sin componente de 5500 Hz por filtrado)\n",
        "x_12k = A1 * np.cos(w1 * t_12k) + A2 * np.sin(w2 * t_12k)\n",
        "\n",
        "# Graficar ambas señales\n",
        "plt.figure(figsize=(14, 6))\n",
        "\n",
        "plt.subplot(2,1,2)\n",
        "plt.stem(t_12k, x_12k, linefmt='b-', markerfmt='bo', basefmt='k-')\n",
        "plt.title('Señal muestreada a 12 kHz (SIN aliasing, con filtrado anti-aliasing)')\n",
        "plt.xlabel('Tiempo [s]')\n",
        "plt.ylabel('Amplitud')\n",
        "\n",
        "plt.tight_layout()\n",
        "plt.show()"
      ],
      "metadata": {
        "id": "DrW_CSx-r9jk"
      },
      "execution_count": null,
      "outputs": []
    },
    {
      "cell_type": "markdown",
      "source": [
        "# Pregunta 3\n",
        "La distancia media entre dos señales $x1(t),x2(t) ∈ R,C,$ se puede expresar a partir de la potencia media:\n",
        "$$\n",
        "d(x_{1},x_{2})=\\bar{P}_{x_{1}-x_{2}}=\\displaystyle \\lim_{T \\to \\infty }\\frac{1}{T}\\int_{T}^{}\\left | x_{1}(t)-x_{2}(t)\\right |^{2}dt\n",
        "$$\n",
        "Sean $x_{1}(t)$ y $x_{2}(t)$:\n",
        "$$\n",
        "x_{1}(t)=A\\,cos(\\omega _{0}t),\\quad\\omega _{0}=\\frac{2\\pi }{T},\\quad T,A \\in\\mathbb{R}^{+}\n",
        "$$\n",
        "\n",
        "$$\n",
        "x_{2}(t)=\\begin{cases}\n",
        "   1         & \\text{si }\\quad 0\\leq t < \\frac{T}{4} \\\\\n",
        "  -1         & \\text{si }\\quad  \\frac{T}{4}\\leq t < \\frac{3T}{4} \\\\\n",
        "   1   & \\text{si }\\quad \\frac{3T}{4}\\leq t < T\n",
        "\\end{cases}\n",
        "$$\n",
        "\n",
        "¿Cuál es la distancia media entre las señales?. Corrobore sus\n",
        " desarrollos con Sympy."
      ],
      "metadata": {
        "id": "TmlafE03h_Wx"
      }
    },
    {
      "cell_type": "markdown",
      "source": [
        "Analizando las dos señales, nos damos cuenta que tenemos una señal a trozos ($x_{2}(t)$), por lo tanto, dividimos los intervalos, donde optenemos 3 integrales:\n",
        "$$\n",
        "\\bar{P}_{x_{1}-x_{2}}=\\displaystyle \\lim_{T \\to \\infty }\\frac{1}{T}\\left [ \\int_{0}^{T/4} \\left ( A\\,cos(w_{0}t)-1 \\right )^{2}dt\\;+\\;\\int_{T/4}^{3T/4} \\left ( A\\,cos(w_{0}t)+1 \\right )^{2}dt\\;+\\;\\int_{3T/4}^{T} \\left ( A\\,cos(w_{0}t)-1 \\right )^{2}dt\\right ]\n",
        "$$"
      ],
      "metadata": {
        "id": "mPh1bm_JnmcR"
      }
    },
    {
      "cell_type": "markdown",
      "source": [
        "Asi que procedemos a hallar las integrales.\n",
        "\n",
        "Resolviendo la primera integral en el intervalo de $0\\leq t < T/4$\n",
        "$$\n",
        "\\int_{0}^{T/4} \\left ( A\\,cos(w_{0}t)-1 \\right )^{2}dt\n",
        "$$"
      ],
      "metadata": {
        "id": "6vnFp-Jqq0Ty"
      }
    },
    {
      "cell_type": "code",
      "source": [
        "import sympy as sp\n",
        "\n",
        "# Definir las variables simbólica\n",
        "t, T, A = sp.symbols('t T A')\n",
        "w0=(2*sp.pi)/T\n",
        "\n",
        "# Definir la función a integrar (puedes cambiarla aquí)\n",
        "f1 = (A*sp.cos(w0*t)-1)**2\n",
        "\n",
        "# Definir los límites de integración\n",
        "a = 0       #Limite inferior\n",
        "b = T/4     #Limite superior\n",
        "\n",
        "# Calcular la integral definida\n",
        "integral_definida1 = sp.integrate(f1, (t, a, b))\n",
        "\n",
        "# Mostrar resultado\n",
        "print(\"La integral definida de \", f1, \"desde\", a, \"hasta\", b, \"es:\")\n",
        "#print(integral_definida)\n",
        "integral_definida1\n"
      ],
      "metadata": {
        "id": "pYYf8U7Ii0N8"
      },
      "execution_count": null,
      "outputs": []
    },
    {
      "cell_type": "markdown",
      "source": [
        "Resolviendo la segunda integral en el intervalo de $T/4\\leq t < 3T/4$\n",
        "$$\n",
        "\\int_{T/4}^{3T/4} \\left ( A\\,cos(w_{0}t)+1 \\right )^{2}dt\n",
        "$$"
      ],
      "metadata": {
        "id": "8aU92p0i-HeO"
      }
    },
    {
      "cell_type": "code",
      "source": [
        "import sympy as sp\n",
        "\n",
        "# Definir las variables simbólica\n",
        "t, T, A = sp.symbols('t T A')\n",
        "w0=(2*sp.pi)/T\n",
        "\n",
        "# Definir la función a integrar (puedes cambiarla aquí)\n",
        "f2 = (A*sp.cos(w0*t)+1)**2\n",
        "\n",
        "# Definir los límites de integración\n",
        "a = T/4      #Limite inferior\n",
        "b = 3*T/4     #Limite superior\n",
        "\n",
        "# Calcular la integral definida\n",
        "integral_definida2 = sp.integrate(f2, (t, a, b))\n",
        "\n",
        "# Mostrar resultado\n",
        "print(\"La integral definida de \", f2, \"desde\", a, \"hasta\", b, \"es:\")\n",
        "#print(integral_definida)\n",
        "integral_definida2\n"
      ],
      "metadata": {
        "id": "wicvYJ3y-Dm6"
      },
      "execution_count": null,
      "outputs": []
    },
    {
      "cell_type": "markdown",
      "source": [
        "Resolviendo la tercera integral en el intervalo de $3T/4\\leq t < T$\n",
        "$$\n",
        "\\int_{3T/4}^{T} \\left ( A\\,cos(w_{0}t)-1 \\right )^{2}dt\n",
        "$$"
      ],
      "metadata": {
        "id": "lVo5CHUHInM1"
      }
    },
    {
      "cell_type": "code",
      "source": [
        "import sympy as sp\n",
        "\n",
        "# Definir las variables simbólica\n",
        "t, T, A = sp.symbols('t T A')\n",
        "w0=(2*sp.pi)/T\n",
        "\n",
        "# Definir la función a integrar (puedes cambiarla aquí)\n",
        "f3 = (A*sp.cos(w0*t)-1)**2\n",
        "\n",
        "# Definir los límites de integración\n",
        "a = 3*T/4       #Limite inferior\n",
        "b = T     #Limite superior\n",
        "\n",
        "# Calcular la integral definida\n",
        "integral_definida3 = sp.integrate(f3, (t, a, b))\n",
        "\n",
        "# Mostrar resultado\n",
        "print(\"La integral definida de \", f3, \"desde\", a, \"hasta\", b, \"es:\")\n",
        "#print(integral_definida)\n",
        "integral_definida3"
      ],
      "metadata": {
        "id": "V8SES48KI0-j"
      },
      "execution_count": null,
      "outputs": []
    },
    {
      "cell_type": "code",
      "source": [
        "R= integral_definida1+integral_definida2+integral_definida3\n",
        "print(\"Despues de resolver la integral dividimos por T\")\n",
        "d=R/T\n",
        "X = d.simplify()\n",
        "X\n"
      ],
      "metadata": {
        "id": "l4B7UeVQOrvi"
      },
      "execution_count": null,
      "outputs": []
    },
    {
      "cell_type": "code",
      "source": [
        "import matplotlib.pyplot as plt\n",
        "import numpy as np\n",
        "W0=2\n",
        "T0= 2*np.pi/W0\n",
        "N=1000\n",
        "t= np.linspace(0, T0, N)\n",
        "x1 = np.cos(W0*t)\n",
        "\n",
        "T=T0\n",
        "\n",
        "def x2(t_local, T):\n",
        "    \"\"\"Define x2 en un solo período entre 0 y T\"\"\"\n",
        "    if 0 <= t_local < T/4:\n",
        "        return 1\n",
        "    elif T/4 <= t_local < 3*T/4:\n",
        "        return -1\n",
        "    elif 3*T/4 <= t_local < T:\n",
        "        return 1\n",
        "    else:\n",
        "        return 0\n",
        "\n",
        "# Vectorizar x2 para varios períodos\n",
        "x2 = np.array([x2(ti % T, T) for ti in t])\n",
        "\n",
        "# Graficar\n",
        "plt.figure(figsize=(12, 6))\n",
        "\n",
        "# Señal x1(t)\n",
        "plt.subplot(2, 1, 1)\n",
        "plt.plot(t, x1, label=r'$x_1(t) = \\cos(\\omega_0 t)$')\n",
        "plt.title(\"Señal x₁(t) = cos(ω₀t)\")\n",
        "plt.grid(True)\n",
        "plt.legend()\n",
        "\n",
        "# Señal x2(t)\n",
        "\n",
        "plt.subplot(2, 1, 2)\n",
        "plt.plot(t, x2, color='orange', label=r'$x_2(t)$')\n",
        "plt.title(\"Señal x₂(t): señal periódica por tramos\")\n",
        "plt.grid(True)\n",
        "plt.legend()\n",
        "\n",
        "plt.tight_layout()\n",
        "plt.show()\n"
      ],
      "metadata": {
        "id": "2SB9mHENF9B5"
      },
      "execution_count": null,
      "outputs": []
    },
    {
      "cell_type": "markdown",
      "source": [
        "# Pregunta 3\n",
        "Sea $x′′(t)$ la segunda derivada de la señal $x(t)$, donde $t$ $∈$ $[ti, tf]$. Demuestre que los coeficientes de la serie exponencial de Fourier se pueden calcular según:\n",
        "$$\n",
        "c_{n}=\\frac{1}{(ti-tf)n^{2}w_{o}^{2}}\\int_{t_i}^{t_f}x^{''}(t)e^{-jnw_{o}t}dt;\\quad n\\in\\mathbb{Z}\n",
        "$$\n",
        "¿Cómo se pueden calcular los coeficientes an y bn desde $x′′(t)$ en la serie trigonométrica de Fourier?.\n",
        "\n",
        "Encuentre el espectro de Fourier, su magnitud, fase, parte real, parte imaginaria y el error relativo de reconstrucción para $n∈{0,±1,±2,±3,±4,±5}$, a partir de $x′′(t)$ para la señal $x(t)$ en la Figura 1 . Compruebe el espectro obtenido con la estimación a partir de $x(t)$ y presente las respectivas simulaciones sobre Python."
      ],
      "metadata": {
        "id": "ZD_S1D0aXsl0"
      }
    },
    {
      "cell_type": "code",
      "source": [
        "# Importación de librerías para gráficos y manipulación numérica\n",
        "from ipywidgets import interact,IntSlider\n",
        "import numpy as np\n",
        "import matplotlib.pyplot as plt\n",
        "\n",
        "# Parámetros para definir la escala y forma de la señal\n",
        "A=1        #Amplitud de la señal\n",
        "d2=2       #Extremo derecho del trapecio\n",
        "d1=1       #Límite de la parte plana del trapecio\n",
        "\n",
        "#Generar señal parametrizada en función del tiempo\n",
        "T = 2*d2       # Periodo total de la señal\n",
        "Fo = 1/T       # Frecuencia fundamental de la señal\n",
        "Fs = 1000*Fo   # Frecuencia de muestreo muy alta para buena resolución\n",
        "tv = np.arange(-T/2,T/2,1/Fs) # Vector de tiempo para graficar la señal\n",
        "Nm = len(tv)   # Cantidad de puntos evaluados\n",
        "\n",
        "# Definición de una función que genera una señal trapezoidal en base a cuatro puntos clave\n",
        "def funcion_trapecio(x, a, b, c, d):\n",
        "    \"\"\"\n",
        "Parámetros:\n",
        "x: vector de tiempo\n",
        "a: inicio de rampa ascendente\n",
        "b: inicio de la meseta\n",
        "c: final de la meseta\n",
        "d: final de rampa descendente\n",
        "    \"\"\"\n",
        "    # Implementación por tramos con funciones máximo y mínimo\n",
        "    return np.maximum(0, np.minimum((x - a) / (b - a), np.minimum(1, (d - x) / (d - c))))\n",
        "\n",
        "# Se genera la señal evaluando en el vector de tiempo y usando los puntos establecidos\n",
        "x = -funcion_trapecio(tv, -d2, -d1, d1, d2)\n",
        "\n",
        "#graficar señal original\n",
        "plt.plot(tv,x,'b',linewidth=4)\n",
        "plt.grid()\n",
        "plt.xlabel(\"t[s]\",fontsize = 14)\n",
        "plt.ylabel(\"x(t)\",fontsize = 14)\n",
        "plt.show()"
      ],
      "metadata": {
        "id": "s4Hn16DJ_kkQ"
      },
      "execution_count": null,
      "outputs": []
    },
    {
      "cell_type": "code",
      "source": [
        "N = 5  # Cantidad de armónicos positivos y negativos a considerar\n",
        "wo = 2 * np.pi / T  # Frecuencia angular fundamental de la señal periódica\n",
        "\n",
        "# Generar las funciones base complejas para los armónicos de Fourier.\n",
        "# phin será una matriz que almacenará las exponenciales complejas correspondientes a cada armónico.\n",
        "phin = np.zeros((Nm, 2*N+1), np.complex128)  # Inicializa matriz de ceros de tipo complejo\n",
        "\n",
        "# Se recorre desde -N hasta N para calcular el valor de cada exponencial compleja\n",
        "for n in range(-N, N+1, 1):\n",
        "    phin[:, n+N] = np.exp(1j * n * wo * tv)  # Cálculo de la base exponencial para cada armónico\n",
        "\n",
        "# Calcular manualmente los coeficientes Cn de la serie de Fourier para la señal generada\n",
        "cn = np.zeros(2*N+1, np.complex128)  # Vector para guardar los coeficientes complejos\n",
        "\n",
        "nv = np.linspace(-N, N, 2*N+1)  # Vector con los valores de los armónicos (índice n)\n",
        "\n",
        "# Fórmula teórica de los coeficientes Cn de Fourier para un trapecio simétrico\n",
        "# Se obtiene aplicando la integral de Fourier a la forma trapezoidal definida antes\n",
        "Cn = (-2*(np.cos(nv*np.pi) - np.cos(nv*np.pi*0.5))) / (np.pi * 2 * nv * 2)\n",
        "\n",
        "# Se ajusta el valor de la componente DC (n=0), que no puede calcularse con la fórmula anterior\n",
        "Cn[N] = 3/4  # Valor medio de la señal (componente de frecuencia cero)\n",
        "\n",
        "\n",
        "\n",
        "#graficar espectro\n",
        "fig = plt.figure(figsize=(8,8))\n",
        "plt.subplot(2,2,1)\n",
        "plt.stem(nv, np.real(Cn), 'r')\n",
        "plt.xlabel(r'$nw_o$[rad/s]',fontsize = 14)\n",
        "plt.ylabel(r'$Re\\{C_n\\}$',fontsize = 14)\n",
        "plt.axis('tight')\n",
        "plt.grid()\n",
        "\n",
        "plt.subplot(2,2,2)\n",
        "plt.stem(nv, np.imag(Cn), 'r')\n",
        "plt.xlabel(r'$nw_o$[rad/s]',fontsize = 14)\n",
        "plt.ylabel(r'$Im\\{C_n\\}$',fontsize = 14)\n",
        "plt.axis('tight')\n",
        "plt.grid()\n",
        "\n",
        "plt.subplot(2,2,3)\n",
        "plt.stem(nv, abs(Cn), 'r')#magnitud del espectro\n",
        "plt.xlabel(r'$nw_o$[rad/s]',fontsize = 14)\n",
        "plt.ylabel(r'$|C_n|$',fontsize = 14)\n",
        "plt.axis('tight')\n",
        "plt.grid()\n",
        "\n",
        "plt.subplot(2,2,4)\n",
        "plt.stem(nv, np.angle(Cn), 'r')#fase del espectro\n",
        "plt.xlabel(r'$nw_o$[rad/s]',fontsize = 14)\n",
        "plt.ylabel(r'$\\langle C_n$',fontsize = 14)\n",
        "plt.axis('tight')\n",
        "plt.grid()\n",
        "\n",
        "fig.tight_layout()"
      ],
      "metadata": {
        "id": "qXFmSsXCJk6t"
      },
      "execution_count": null,
      "outputs": []
    },
    {
      "cell_type": "code",
      "source": [
        "Px = 2/3 # Potencia de la señal original\n",
        "\n",
        "# La función pltest, ayuda a la reconstrucción y grafico de la señal\n",
        "def pltest(Na=1):\n",
        "    ind = np.arange(N-Na,N+Na+1)\n",
        "    er = 1- np.sum(abs(Cn[ind])**2)/Px\n",
        "    #señal reconstruida\n",
        "    xe = phin[:,ind].dot(Cn[ind] ) # dot calcula el producto entre vectores\n",
        "    plt.plot(tv,xe,color='b',label='$x_e(t)$') # señal estimada o filtrada\n",
        "    plt.plot(tv,x,color='r',label='x(t)') #señal original\n",
        "    plt.title('$E_r$=%.2f[%%]' % (100*er),fontsize=16)\n",
        "    plt.xlabel('t[s]')\n",
        "    plt.ylabel('x(t)')\n",
        "    plt.grid()\n",
        "    plt.legend()\n",
        "    plt.show()\n",
        "\n",
        "    return\n",
        "interact(pltest,Na=(1,N,1))"
      ],
      "metadata": {
        "id": "G2B01vHWJuRF"
      },
      "execution_count": null,
      "outputs": []
    }
  ]
}