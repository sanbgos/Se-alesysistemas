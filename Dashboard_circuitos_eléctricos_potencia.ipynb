{
  "nbformat": 4,
  "nbformat_minor": 0,
  "metadata": {
    "colab": {
      "private_outputs": true,
      "provenance": [],
      "include_colab_link": true
    },
    "kernelspec": {
      "name": "python3",
      "display_name": "Python 3"
    },
    "language_info": {
      "name": "python"
    }
  },
  "cells": [
    {
      "cell_type": "markdown",
      "metadata": {
        "id": "view-in-github",
        "colab_type": "text"
      },
      "source": [
        "<a href=\"https://colab.research.google.com/github/sanbgos/Se-alesysistemas/blob/main/Dashboard_circuitos_el%C3%A9ctricos_potencia.ipynb\" target=\"_parent\"><img src=\"https://colab.research.google.com/assets/colab-badge.svg\" alt=\"Open In Colab\"/></a>"
      ]
    },
    {
      "cell_type": "code",
      "execution_count": null,
      "metadata": {
        "id": "9OyUJjMNEMQb"
      },
      "outputs": [],
      "source": [
        "##Se utliza Cloudflare\n",
        "!wget https://github.com/cloudflare/cloudflared/releases/latest/download/cloudflared-linux-amd64.deb\n",
        "!dpkg -i cloudflared-linux-amd64.deb\n",
        "!pip install streamlit\n",
        "!apt install nodejs\n",
        "!npm install -g localtunnel\n",
        "import os\n",
        "import threading\n",
        "import time"
      ]
    },
    {
      "cell_type": "code",
      "source": [
        "%%writefile app.py\n",
        "import streamlit as st\n",
        "import numpy as np\n",
        "import matplotlib.pyplot as plt\n",
        "\n",
        "# -------------------------\n",
        "# Funciones\n",
        "# -------------------------\n",
        "\n",
        "def generar_onda_rectificada(f, R, C, t, tipo='R'):\n",
        "    w = 2 * np.pi * f\n",
        "    vin = np.sin(w * t)\n",
        "    vout = np.abs(vin)\n",
        "    if tipo == 'RC':\n",
        "        dt = t[1] - t[0]\n",
        "        i = [vout[0]/R]\n",
        "        for k in range(1, len(t)):\n",
        "            i_k = (vout[k] - C/dt*(i[k-1]*dt/C - vout[k-1])) / (1 + R*C/dt)\n",
        "            i.append(i_k)\n",
        "        i = np.array(i)\n",
        "    else:\n",
        "        i = vout / R\n",
        "    return vin, i\n",
        "\n",
        "def calcular_thd(y, fs):\n",
        "    N = len(y)\n",
        "    Y = np.fft.rfft(y)\n",
        "    mag = np.abs(Y) / N\n",
        "    freqs = np.fft.rfftfreq(N, 1/fs)\n",
        "\n",
        "    thd = np.sqrt(np.sum(mag[1:]**2)) / mag[0]\n",
        "    return thd * 100, freqs, mag\n",
        "\n",
        "def calcular_fp(thd):\n",
        "    return 1 / np.sqrt(1 + (thd/100)**2)\n",
        "\n",
        "# -------------------------\n",
        "# Streamlit UI\n",
        "# -------------------------\n",
        "\n",
        "st.set_page_config(page_title=\"Análisis THD y FP\", layout=\"wide\")\n",
        "st.title(\"📈 Análisis de THD y Factor de Potencia\")\n",
        "st.markdown(\"Simulación para rectificador de onda completa con carga **R** y **RC**.\")\n",
        "\n",
        "# Parámetros\n",
        "f = st.slider(\"Frecuencia de entrada [Hz]\", 50, 200, 60)\n",
        "R = st.slider(\"Resistencia (R) [Ohm]\", 1, 100, 10)\n",
        "C = st.slider(\"Capacitancia (C) [F]\", 0.0, 0.5, 0.05)\n",
        "\n",
        "# Simulación\n",
        "fs = 10000\n",
        "t = np.linspace(0, 3/f, int(fs * 3/f))\n",
        "\n",
        "vin, iR = generar_onda_rectificada(f, R, C, t, tipo='R')\n",
        "_, iRC = generar_onda_rectificada(f, R, C, t, tipo='RC')\n",
        "\n",
        "thd_r, fx_r, mag_r = calcular_thd(iR, fs)\n",
        "fp_r = calcular_fp(thd_r)\n",
        "\n",
        "thd_rc, fx_rc, mag_rc = calcular_thd(iRC, fs)\n",
        "fp_rc = calcular_fp(thd_rc)\n",
        "\n",
        "# Mostrar resultados\n",
        "col1, col2 = st.columns(2)\n",
        "\n",
        "with col1:\n",
        "    st.subheader(\"🔌 Carga R\")\n",
        "    st.line_chart(iR)\n",
        "    st.text(f\"THD: {thd_r:.2f}%\")\n",
        "    st.text(f\"Factor de Potencia: {fp_r:.4f}\")\n",
        "    st.pyplot(plt.figure(figsize=(6,3)))\n",
        "    plt.stem(fx_r, mag_r, basefmt=\" \")\n",
        "    plt.title(\"FFT carga R\")\n",
        "    plt.xlabel(\"Frecuencia [Hz]\")\n",
        "    plt.ylabel(\"Magnitud\")\n",
        "\n",
        "with col2:\n",
        "    st.subheader(\"🔋 Carga RC\")\n",
        "    st.line_chart(iRC)\n",
        "    st.text(f\"THD: {thd_rc:.2f}%\")\n",
        "    st.text(f\"Factor de Potencia: {fp_rc:.4f}\")\n",
        "    st.pyplot(plt.figure(figsize=(6,3)))\n",
        "    plt.stem(fx_rc, mag_rc, basefmt=\" \")\n",
        "    plt.title(\"FFT carga RC\")\n",
        "    plt.xlabel(\"Frecuencia [Hz]\")\n",
        "    plt.ylabel(\"Magnitud\")\n"
      ],
      "metadata": {
        "id": "iJSFGts9JM0A"
      },
      "execution_count": null,
      "outputs": []
    },
    {
      "cell_type": "code",
      "source": [
        "import os\n",
        "import threading\n",
        "import time\n",
        "\n",
        "# Iniciar streamlit en segundo plano\n",
        "def run_app():\n",
        "    os.system(\"streamlit run app.py &\")\n",
        "\n",
        "threading.Thread(target=run_app).start()\n",
        "\n",
        "# Esperar que inicie\n",
        "time.sleep(5)\n",
        "\n",
        "# Crear túnel con cloudflared\n",
        "!cloudflared tunnel --url http://localhost:8501 --no-autoupdate\n"
      ],
      "metadata": {
        "id": "gkWGcI91JPKi"
      },
      "execution_count": null,
      "outputs": []
    }
  ]
}